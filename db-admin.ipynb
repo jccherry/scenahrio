{
 "cells": [
  {
   "cell_type": "code",
   "execution_count": 2,
   "metadata": {},
   "outputs": [
    {
     "name": "stdout",
     "output_type": "stream",
     "text": [
      "Defaulting to user installation because normal site-packages is not writeable\n",
      "Collecting psycopg2-binary\n",
      "  Obtaining dependency information for psycopg2-binary from https://files.pythonhosted.org/packages/7f/06/b679e3dc280cee93f2d70f15e0ec6d382d6ff9e7e58ea153dc9588d0de5c/psycopg2_binary-2.9.8-cp39-cp39-macosx_11_0_arm64.whl.metadata\n",
      "  Downloading psycopg2_binary-2.9.8-cp39-cp39-macosx_11_0_arm64.whl.metadata (4.4 kB)\n",
      "Downloading psycopg2_binary-2.9.8-cp39-cp39-macosx_11_0_arm64.whl (2.5 MB)\n",
      "\u001b[2K   \u001b[90m━━━━━━━━━━━━━━━━━━━━━━━━━━━━━━━━━━━━━━━━\u001b[0m \u001b[32m2.5/2.5 MB\u001b[0m \u001b[31m1.7 MB/s\u001b[0m eta \u001b[36m0:00:00\u001b[0ma \u001b[36m0:00:01\u001b[0m0m\n",
      "\u001b[?25hInstalling collected packages: psycopg2-binary\n",
      "Successfully installed psycopg2-binary-2.9.8\n",
      "Defaulting to user installation because normal site-packages is not writeable\n",
      "Collecting pandas\n",
      "  Obtaining dependency information for pandas from https://files.pythonhosted.org/packages/c5/2f/bf85305b044ddee0ade62c444c7ef551eb423899424b3898d60895d02f63/pandas-2.1.1-cp39-cp39-macosx_11_0_arm64.whl.metadata\n",
      "  Downloading pandas-2.1.1-cp39-cp39-macosx_11_0_arm64.whl.metadata (18 kB)\n",
      "Collecting numpy>=1.22.4 (from pandas)\n",
      "  Obtaining dependency information for numpy>=1.22.4 from https://files.pythonhosted.org/packages/b4/ca/fc1c4f8a2a4693ff437d039acf2dc93a190b9494569fbed246f535c44fc8/numpy-1.26.0-cp39-cp39-macosx_11_0_arm64.whl.metadata\n",
      "  Downloading numpy-1.26.0-cp39-cp39-macosx_11_0_arm64.whl.metadata (53 kB)\n",
      "\u001b[2K     \u001b[90m━━━━━━━━━━━━━━━━━━━━━━━━━━━━━━━━━━━━━━━\u001b[0m \u001b[32m53.5/53.5 kB\u001b[0m \u001b[31m626.2 kB/s\u001b[0m eta \u001b[36m0:00:00\u001b[0m \u001b[36m0:00:01\u001b[0m\n",
      "\u001b[?25hRequirement already satisfied: python-dateutil>=2.8.2 in /Users/jchiaramonte/Library/Python/3.9/lib/python/site-packages (from pandas) (2.8.2)\n",
      "Collecting pytz>=2020.1 (from pandas)\n",
      "  Obtaining dependency information for pytz>=2020.1 from https://files.pythonhosted.org/packages/32/4d/aaf7eff5deb402fd9a24a1449a8119f00d74ae9c2efa79f8ef9994261fc2/pytz-2023.3.post1-py2.py3-none-any.whl.metadata\n",
      "  Using cached pytz-2023.3.post1-py2.py3-none-any.whl.metadata (22 kB)\n",
      "Collecting tzdata>=2022.1 (from pandas)\n",
      "  Using cached tzdata-2023.3-py2.py3-none-any.whl (341 kB)\n",
      "Requirement already satisfied: six>=1.5 in /Users/jchiaramonte/Library/Python/3.9/lib/python/site-packages (from python-dateutil>=2.8.2->pandas) (1.16.0)\n",
      "Downloading pandas-2.1.1-cp39-cp39-macosx_11_0_arm64.whl (10.9 MB)\n",
      "\u001b[2K   \u001b[90m━━━━━━━━━━━━━━━━━━━━━━━━━━━━━━━━━━━━━━━━\u001b[0m \u001b[32m10.9/10.9 MB\u001b[0m \u001b[31m1.6 MB/s\u001b[0m eta \u001b[36m0:00:00\u001b[0m00:01\u001b[0m00:01\u001b[0m\n",
      "\u001b[?25hDownloading numpy-1.26.0-cp39-cp39-macosx_11_0_arm64.whl (14.0 MB)\n",
      "\u001b[2K   \u001b[90m━━━━━━━━━━━━━━━━━━━━━━━━━━━━━━━━━━━━━━━━\u001b[0m \u001b[32m14.0/14.0 MB\u001b[0m \u001b[31m624.0 kB/s\u001b[0m eta \u001b[36m0:00:00\u001b[0m00:01\u001b[0m00:01\u001b[0m\n",
      "\u001b[?25hUsing cached pytz-2023.3.post1-py2.py3-none-any.whl (502 kB)\n",
      "Installing collected packages: pytz, tzdata, numpy, pandas\n",
      "Successfully installed numpy-1.26.0 pandas-2.1.1 pytz-2023.3.post1 tzdata-2023.3\n",
      "Defaulting to user installation because normal site-packages is not writeable\n",
      "Requirement already satisfied: python-dotenv in /Users/jchiaramonte/Library/Python/3.9/lib/python/site-packages (1.0.0)\n"
     ]
    }
   ],
   "source": [
    "!pip3 install psycopg2-binary\n",
    "!pip3 install pandas\n",
    "!pip3 install python-dotenv"
   ]
  },
  {
   "cell_type": "code",
   "execution_count": 3,
   "metadata": {},
   "outputs": [
    {
     "data": {
      "text/plain": [
       "True"
      ]
     },
     "execution_count": 3,
     "metadata": {},
     "output_type": "execute_result"
    }
   ],
   "source": [
    "from python_modules.db_connect import execute_command_no_return, execute_query\n",
    "from dotenv import load_dotenv\n",
    "load_dotenv()"
   ]
  },
  {
   "cell_type": "code",
   "execution_count": null,
   "metadata": {},
   "outputs": [],
   "source": [
    "### CREATE USERS TABLE\n",
    "\n",
    "create_user_table_command = \"\"\"\n",
    "    DROP TABLE IF EXISTS users;\n",
    "    CREATE TABLE users (\n",
    "        aud TEXT,\n",
    "        azp TEXT,\n",
    "        email TEXT,\n",
    "        email_verified BOOLEAN,\n",
    "        exp NUMERIC,\n",
    "        family_name TEXT,\n",
    "        given_name TEXT,\n",
    "        iat NUMERIC,\n",
    "        iss TEXT,\n",
    "        jti TEXT,\n",
    "        locale TEXT,\n",
    "        name TEXT,\n",
    "        nbf NUMERIC,\n",
    "        picture TEXT,\n",
    "        sub TEXT\n",
    "    );\n",
    "\"\"\"\n",
    "\n",
    "execute_command_no_return(create_user_table_command)"
   ]
  },
  {
   "cell_type": "code",
   "execution_count": null,
   "metadata": {},
   "outputs": [],
   "source": [
    "### ADD SAMPLE USERS TO USERS TABLE\n",
    "\n",
    "add_sample_users_command = \"\"\"\n",
    "    INSERT INTO users (\n",
    "    aud, azp, email, email_verified, exp, family_name, given_name, iat, iss, jti, locale, name, nbf, picture, sub\n",
    "    )\n",
    "    VALUES\n",
    "    ('123456789', 'client123', 'user1@example.com', TRUE, 1677648000, 'Doe', 'John', 1677644000, 'issuer123', 'jwt123', 'en-US', 'John Doe', 1677642000, 'https://example.com/user1.jpg', 'user123'),\n",
    "    ('987654321', 'client456', 'user2@example.com', TRUE, 1677648000, 'Smith', 'Jane', 1677644000, 'issuer456', 'jwt456', 'en-US', 'Jane Smith', 1677642000, 'https://example.com/user2.jpg', 'user456'),\n",
    "    ('555555555', 'client789', 'user3@example.com', TRUE, 1677648000, 'Johnson', 'Robert', 1677644000, 'issuer789', 'jwt789', 'en-US', 'Robert Johnson', 1677642000, 'https://example.com/user3.jpg', 'user789');\n",
    "    \"\"\"\n",
    "\n",
    "execute_command_no_return(add_sample_users_command)"
   ]
  },
  {
   "cell_type": "code",
   "execution_count": 6,
   "metadata": {},
   "outputs": [],
   "source": [
    "### CREATE EMPLOYEES TABLE\n",
    "\n",
    "create_employees_table_command = \"\"\"\n",
    "    DROP TABLE IF EXISTS employees;\n",
    "    DROP TABLE IF EXISTS profiles;\n",
    "    CREATE TABLE profiles (\n",
    "        user_sub TEXT\n",
    "        , name TEXT\n",
    "        , age NUMERIC\n",
    "        , gender TEXT\n",
    "        , job_title TEXT\n",
    "        , years_experience TEXT\n",
    "        , notes TEXT\n",
    "    );\n",
    "\"\"\"\n",
    "\n",
    "execute_command_no_return(create_employees_table_command)"
   ]
  },
  {
   "cell_type": "code",
   "execution_count": 4,
   "metadata": {},
   "outputs": [
    {
     "data": {
      "text/html": [
       "<div>\n",
       "<style scoped>\n",
       "    .dataframe tbody tr th:only-of-type {\n",
       "        vertical-align: middle;\n",
       "    }\n",
       "\n",
       "    .dataframe tbody tr th {\n",
       "        vertical-align: top;\n",
       "    }\n",
       "\n",
       "    .dataframe thead th {\n",
       "        text-align: right;\n",
       "    }\n",
       "</style>\n",
       "<table border=\"1\" class=\"dataframe\">\n",
       "  <thead>\n",
       "    <tr style=\"text-align: right;\">\n",
       "      <th></th>\n",
       "      <th>aud</th>\n",
       "      <th>azp</th>\n",
       "      <th>email</th>\n",
       "      <th>email_verified</th>\n",
       "      <th>exp</th>\n",
       "      <th>family_name</th>\n",
       "      <th>given_name</th>\n",
       "      <th>iat</th>\n",
       "      <th>iss</th>\n",
       "      <th>jti</th>\n",
       "      <th>locale</th>\n",
       "      <th>name</th>\n",
       "      <th>nbf</th>\n",
       "      <th>picture</th>\n",
       "      <th>sub</th>\n",
       "    </tr>\n",
       "  </thead>\n",
       "  <tbody>\n",
       "    <tr>\n",
       "      <th>0</th>\n",
       "      <td>164377232646-17ms2a711rlca4364vioe4v3c2070q8c....</td>\n",
       "      <td>164377232646-17ms2a711rlca4364vioe4v3c2070q8c....</td>\n",
       "      <td>johnchiaramonte17@gmail.com</td>\n",
       "      <td>True</td>\n",
       "      <td>1.694822e+09</td>\n",
       "      <td>Chiaramonte</td>\n",
       "      <td>John</td>\n",
       "      <td>1.694818e+09</td>\n",
       "      <td>https://accounts.google.com</td>\n",
       "      <td>e566055e310c9ff0fb4fe55e9c62a691813dd001</td>\n",
       "      <td>en</td>\n",
       "      <td>John Chiaramonte</td>\n",
       "      <td>1.694818e+09</td>\n",
       "      <td>https://lh3.googleusercontent.com/a/ACg8ocLo-Z...</td>\n",
       "      <td>107555079500216939004</td>\n",
       "    </tr>\n",
       "  </tbody>\n",
       "</table>\n",
       "</div>"
      ],
      "text/plain": [
       "                                                 aud  \\\n",
       "0  164377232646-17ms2a711rlca4364vioe4v3c2070q8c....   \n",
       "\n",
       "                                                 azp  \\\n",
       "0  164377232646-17ms2a711rlca4364vioe4v3c2070q8c....   \n",
       "\n",
       "                         email  email_verified           exp  family_name  \\\n",
       "0  johnchiaramonte17@gmail.com            True  1.694822e+09  Chiaramonte   \n",
       "\n",
       "  given_name           iat                          iss  \\\n",
       "0       John  1.694818e+09  https://accounts.google.com   \n",
       "\n",
       "                                        jti locale              name  \\\n",
       "0  e566055e310c9ff0fb4fe55e9c62a691813dd001     en  John Chiaramonte   \n",
       "\n",
       "            nbf                                            picture  \\\n",
       "0  1.694818e+09  https://lh3.googleusercontent.com/a/ACg8ocLo-Z...   \n",
       "\n",
       "                     sub  \n",
       "0  107555079500216939004  "
      ]
     },
     "execution_count": 4,
     "metadata": {},
     "output_type": "execute_result"
    }
   ],
   "source": [
    "execute_query(\"SELECT * FROM users;\")"
   ]
  },
  {
   "cell_type": "code",
   "execution_count": 6,
   "metadata": {},
   "outputs": [
    {
     "data": {
      "text/html": [
       "<div>\n",
       "<style scoped>\n",
       "    .dataframe tbody tr th:only-of-type {\n",
       "        vertical-align: middle;\n",
       "    }\n",
       "\n",
       "    .dataframe tbody tr th {\n",
       "        vertical-align: top;\n",
       "    }\n",
       "\n",
       "    .dataframe thead th {\n",
       "        text-align: right;\n",
       "    }\n",
       "</style>\n",
       "<table border=\"1\" class=\"dataframe\">\n",
       "  <thead>\n",
       "    <tr style=\"text-align: right;\">\n",
       "      <th></th>\n",
       "      <th>user_aud</th>\n",
       "      <th>name</th>\n",
       "      <th>age</th>\n",
       "      <th>gender</th>\n",
       "      <th>job_title</th>\n",
       "      <th>years_experience</th>\n",
       "      <th>notes</th>\n",
       "    </tr>\n",
       "  </thead>\n",
       "  <tbody>\n",
       "    <tr>\n",
       "      <th>0</th>\n",
       "      <td>164377232646-17ms2a711rlca4364vioe4v3c2070q8c....</td>\n",
       "      <td>based</td>\n",
       "      <td>25</td>\n",
       "      <td>Male</td>\n",
       "      <td>Manager</td>\n",
       "      <td>2</td>\n",
       "      <td>Epicsauce</td>\n",
       "    </tr>\n",
       "    <tr>\n",
       "      <th>1</th>\n",
       "      <td>164377232646-17ms2a711rlca4364vioe4v3c2070q8c....</td>\n",
       "      <td>Josiah</td>\n",
       "      <td>Chance</td>\n",
       "      <td>Male</td>\n",
       "      <td>Entrepreneur</td>\n",
       "      <td>10</td>\n",
       "      <td>Bababooey</td>\n",
       "    </tr>\n",
       "  </tbody>\n",
       "</table>\n",
       "</div>"
      ],
      "text/plain": [
       "                                            user_aud    name     age gender  \\\n",
       "0  164377232646-17ms2a711rlca4364vioe4v3c2070q8c....   based      25   Male   \n",
       "1  164377232646-17ms2a711rlca4364vioe4v3c2070q8c....  Josiah  Chance   Male   \n",
       "\n",
       "      job_title years_experience      notes  \n",
       "0       Manager                2  Epicsauce  \n",
       "1  Entrepreneur               10  Bababooey  "
      ]
     },
     "execution_count": 6,
     "metadata": {},
     "output_type": "execute_result"
    }
   ],
   "source": [
    "execute_query(\"SELECT * FROM profiles;\")"
   ]
  }
 ],
 "metadata": {
  "kernelspec": {
   "display_name": "Python 3",
   "language": "python",
   "name": "python3"
  },
  "language_info": {
   "codemirror_mode": {
    "name": "ipython",
    "version": 3
   },
   "file_extension": ".py",
   "mimetype": "text/x-python",
   "name": "python",
   "nbconvert_exporter": "python",
   "pygments_lexer": "ipython3",
   "version": "3.9.6"
  },
  "orig_nbformat": 4
 },
 "nbformat": 4,
 "nbformat_minor": 2
}
