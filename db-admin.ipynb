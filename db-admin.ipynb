{
 "cells": [
  {
   "cell_type": "code",
   "execution_count": null,
   "metadata": {},
   "outputs": [],
   "source": [
    "!pip3 install psycopg2-binary\n",
    "!pip3 install pandas\n",
    "!pip3 install python-dotenv"
   ]
  },
  {
   "cell_type": "code",
   "execution_count": 6,
   "metadata": {},
   "outputs": [
    {
     "data": {
      "text/plain": [
       "True"
      ]
     },
     "execution_count": 6,
     "metadata": {},
     "output_type": "execute_result"
    }
   ],
   "source": [
    "from python_modules.db_connect import execute_command_no_return, execute_query\n",
    "from dotenv import load_dotenv\n",
    "load_dotenv()"
   ]
  },
  {
   "cell_type": "code",
   "execution_count": 4,
   "metadata": {},
   "outputs": [],
   "source": [
    "### CREATE USERS TABLE\n",
    "\n",
    "create_user_table_command = \"\"\"\n",
    "    DROP TABLE IF EXISTS users;\n",
    "    CREATE TABLE users (\n",
    "        aud TEXT,\n",
    "        azp TEXT,\n",
    "        email TEXT,\n",
    "        email_verified BOOLEAN,\n",
    "        exp NUMERIC,\n",
    "        family_name TEXT,\n",
    "        given_name TEXT,\n",
    "        iat NUMERIC,\n",
    "        iss TEXT,\n",
    "        jti TEXT,\n",
    "        locale TEXT,\n",
    "        name TEXT,\n",
    "        nbf NUMERIC,\n",
    "        picture TEXT,\n",
    "        sub TEXT\n",
    "    );\n",
    "\"\"\"\n",
    "\n",
    "execute_command_no_return(create_user_table_command)"
   ]
  },
  {
   "cell_type": "code",
   "execution_count": null,
   "metadata": {},
   "outputs": [],
   "source": [
    "### ADD SAMPLE USERS TO USERS TABLE\n",
    "\n",
    "add_sample_users_command = \"\"\"\n",
    "    INSERT INTO users (\n",
    "    aud, azp, email, email_verified, exp, family_name, given_name, iat, iss, jti, locale, name, nbf, picture, sub\n",
    "    )\n",
    "    VALUES\n",
    "    ('123456789', 'client123', 'user1@example.com', TRUE, 1677648000, 'Doe', 'John', 1677644000, 'issuer123', 'jwt123', 'en-US', 'John Doe', 1677642000, 'https://example.com/user1.jpg', 'user123'),\n",
    "    ('987654321', 'client456', 'user2@example.com', TRUE, 1677648000, 'Smith', 'Jane', 1677644000, 'issuer456', 'jwt456', 'en-US', 'Jane Smith', 1677642000, 'https://example.com/user2.jpg', 'user456'),\n",
    "    ('555555555', 'client789', 'user3@example.com', TRUE, 1677648000, 'Johnson', 'Robert', 1677644000, 'issuer789', 'jwt789', 'en-US', 'Robert Johnson', 1677642000, 'https://example.com/user3.jpg', 'user789');\n",
    "    \"\"\"\n",
    "\n",
    "execute_command_no_return(add_sample_users_command)"
   ]
  },
  {
   "cell_type": "code",
   "execution_count": null,
   "metadata": {},
   "outputs": [],
   "source": [
    "### CREATE EMPLOYEES TABLE\n",
    "\n",
    "create_employees_table_command = \"\"\"\n",
    "    DROP TABLE IF EXISTS employees;\n",
    "    DROP TABLE IF EXISTS profiles;\n",
    "    CREATE TABLE profiles (\n",
    "        profile_id TEXT\n",
    "        , user_sub TEXT\n",
    "        , name TEXT\n",
    "        , age NUMERIC\n",
    "        , gender TEXT\n",
    "        , job_title TEXT\n",
    "        , years_experience TEXT\n",
    "        , notes TEXT\n",
    "    );\n",
    "\"\"\"\n",
    "\n",
    "execute_command_no_return(create_employees_table_command)"
   ]
  },
  {
   "cell_type": "code",
   "execution_count": null,
   "metadata": {},
   "outputs": [],
   "source": [
    "execute_query(\"SELECT * FROM users;\")"
   ]
  },
  {
   "cell_type": "code",
   "execution_count": null,
   "metadata": {},
   "outputs": [],
   "source": [
    "execute_query(\"SELECT * FROM profiles WHERE profile_id = '7d1679cd872960a07115c44eee5e327758bbf8392474429bd2b367cecb67aa47';\")"
   ]
  },
  {
   "cell_type": "code",
   "execution_count": null,
   "metadata": {},
   "outputs": [],
   "source": [
    "execute_command_no_return(\"DELETE FROM profiles WHERE profile_id = '7d1679cd872960a07115c44eee5e327758bbf8392474429bd2b367cecb67aa47'\")"
   ]
  },
  {
   "cell_type": "code",
   "execution_count": 8,
   "metadata": {},
   "outputs": [],
   "source": [
    "### CREATE SCENARIOS TABLE\n",
    "\n",
    "create_user_table_command = \"\"\"\n",
    "    DROP TABLE IF EXISTS scenarios;\n",
    "    CREATE TABLE scenarios (\n",
    "        scenario_id TEXT\n",
    "        , user_sub TEXT\n",
    "        , profile_id TEXT\n",
    "        , contents jsonb\n",
    "    );\n",
    "\"\"\"\n",
    "\n",
    "execute_command_no_return(create_user_table_command)"
   ]
  }
 ],
 "metadata": {
  "kernelspec": {
   "display_name": "Python 3",
   "language": "python",
   "name": "python3"
  },
  "language_info": {
   "codemirror_mode": {
    "name": "ipython",
    "version": 3
   },
   "file_extension": ".py",
   "mimetype": "text/x-python",
   "name": "python",
   "nbconvert_exporter": "python",
   "pygments_lexer": "ipython3",
   "version": "3.9.6"
  },
  "orig_nbformat": 4
 },
 "nbformat": 4,
 "nbformat_minor": 2
}
