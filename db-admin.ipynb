{
 "cells": [
  {
   "cell_type": "code",
   "execution_count": null,
   "metadata": {},
   "outputs": [],
   "source": [
    "!pip3 install psycopg2-binary\n",
    "!pip3 install pandas\n",
    "!pip3 install python-dotenv"
   ]
  },
  {
   "cell_type": "code",
   "execution_count": 2,
   "metadata": {},
   "outputs": [
    {
     "data": {
      "text/plain": [
       "True"
      ]
     },
     "execution_count": 2,
     "metadata": {},
     "output_type": "execute_result"
    }
   ],
   "source": [
    "from python_modules.db_connect import execute_command_no_return, execute_query\n",
    "from dotenv import load_dotenv\n",
    "load_dotenv()"
   ]
  },
  {
   "cell_type": "code",
   "execution_count": null,
   "metadata": {},
   "outputs": [],
   "source": [
    "### CREATE USERS TABLE\n",
    "\n",
    "create_user_table_command = \"\"\"\n",
    "    DROP TABLE IF EXISTS users;\n",
    "    CREATE TABLE users (\n",
    "        aud TEXT,\n",
    "        azp TEXT,\n",
    "        email TEXT,\n",
    "        email_verified BOOLEAN,\n",
    "        exp NUMERIC,\n",
    "        family_name TEXT,\n",
    "        given_name TEXT,\n",
    "        iat NUMERIC,\n",
    "        iss TEXT,\n",
    "        jti TEXT,\n",
    "        locale TEXT,\n",
    "        name TEXT,\n",
    "        nbf NUMERIC,\n",
    "        picture TEXT,\n",
    "        sub TEXT\n",
    "    );\n",
    "\"\"\"\n",
    "\n",
    "execute_command_no_return(create_user_table_command)"
   ]
  },
  {
   "cell_type": "code",
   "execution_count": null,
   "metadata": {},
   "outputs": [],
   "source": [
    "### ADD SAMPLE USERS TO USERS TABLE\n",
    "\n",
    "add_sample_users_command = \"\"\"\n",
    "    INSERT INTO users (\n",
    "    aud, azp, email, email_verified, exp, family_name, given_name, iat, iss, jti, locale, name, nbf, picture, sub\n",
    "    )\n",
    "    VALUES\n",
    "    ('123456789', 'client123', 'user1@example.com', TRUE, 1677648000, 'Doe', 'John', 1677644000, 'issuer123', 'jwt123', 'en-US', 'John Doe', 1677642000, 'https://example.com/user1.jpg', 'user123'),\n",
    "    ('987654321', 'client456', 'user2@example.com', TRUE, 1677648000, 'Smith', 'Jane', 1677644000, 'issuer456', 'jwt456', 'en-US', 'Jane Smith', 1677642000, 'https://example.com/user2.jpg', 'user456'),\n",
    "    ('555555555', 'client789', 'user3@example.com', TRUE, 1677648000, 'Johnson', 'Robert', 1677644000, 'issuer789', 'jwt789', 'en-US', 'Robert Johnson', 1677642000, 'https://example.com/user3.jpg', 'user789');\n",
    "    \"\"\"\n",
    "\n",
    "execute_command_no_return(add_sample_users_command)"
   ]
  },
  {
   "cell_type": "code",
   "execution_count": 3,
   "metadata": {},
   "outputs": [],
   "source": [
    "### CREATE ITEMS TABLE\n",
    "\n",
    "add_items_table_command = \"\"\"\n",
    "    DROP TABLE IF EXISTS items;\n",
    "    CREATE TABLE items (\n",
    "        sub TEXT\n",
    "        , item TEXT\n",
    "    );\n",
    "\"\"\"\n",
    "\n",
    "execute_command_no_return(add_items_table_command)"
   ]
  }
 ],
 "metadata": {
  "kernelspec": {
   "display_name": "Python 3",
   "language": "python",
   "name": "python3"
  },
  "language_info": {
   "codemirror_mode": {
    "name": "ipython",
    "version": 3
   },
   "file_extension": ".py",
   "mimetype": "text/x-python",
   "name": "python",
   "nbconvert_exporter": "python",
   "pygments_lexer": "ipython3",
   "version": "3.11.4"
  },
  "orig_nbformat": 4
 },
 "nbformat": 4,
 "nbformat_minor": 2
}
